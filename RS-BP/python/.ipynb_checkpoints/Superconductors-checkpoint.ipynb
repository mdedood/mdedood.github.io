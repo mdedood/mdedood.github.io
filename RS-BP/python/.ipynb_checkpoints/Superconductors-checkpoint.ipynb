{
 "cells": [
  {
   "cell_type": "markdown",
   "metadata": {},
   "source": [
    "# Exercise 2: Hypothesis testing\n",
    "\n",
    "In this exercise we will test if 10 different measurements of the same quantity are well-described by a single average value or not. \n",
    "\n",
    "In the lab ten nominally identical samples of superconducting material are made and tested using the same procedure. Due to factors that are not under control in the experiment it could be that slightly different materials are being produced. \n",
    "\n",
    "For each sample of superconducting material the critical temperature $T_c$ is determined using the same setup and same criterion to identify the transition. The uncertainty in the transition temperature introduced by this method is $\\pm$ 0.2 K.\n",
    "\n",
    "The transition temperature for the 10 samples is found to be:"
   ]
  },
  {
   "cell_type": "code",
   "execution_count": 1,
   "metadata": {},
   "outputs": [],
   "source": [
    "import numpy as np\n",
    "Tc=np.array([10.2, 10.4, 9.8, 10.5, 9.9, 9.8, 10.3, 10.1, 10.3, 9.9])"
   ]
  },
  {
   "cell_type": "markdown",
   "metadata": {},
   "source": [
    "## Plot the data\n",
    "\n",
    "It is always a good idea to plot the data before you start any calculation"
   ]
  },
  {
   "cell_type": "code",
   "execution_count": 2,
   "metadata": {},
   "outputs": [
    {
     "data": {
      "image/png": "[encoded data removed]",
      "text/plain": [
       "<Figure size 576x432 with 1 Axes>"
      ]
     },
     "metadata": {
      "needs_background": "light"
     },
     "output_type": "display_data"
    }
   ],
   "source": [
    "import matplotlib.pyplot as plt\n",
    "%matplotlib inline\n",
    "\n",
    "# Some default styling for the figures; best solution is once at the beginning of the code\n",
    "# See https://matplotlib.org/3.1.3/tutorials/introductory/customizing.html\n",
    "# These settings assume that you have used import matplotlib.pyplot as plt \n",
    "\n",
    "# Smallest font size is a 10 point font for a 4 inch wide figure. \n",
    "# font sizes and figure size are scaled by a factor 2 to have a large figure on the screen\n",
    "\n",
    "SMALL_SIZE = 10*2                                        \n",
    "MEDIUM_SIZE = 12*2\n",
    "BIGGER_SIZE = 14*2\n",
    "\n",
    "plt.rc('font', size=SMALL_SIZE, family='serif')          # controls default text sizes\n",
    "plt.rc('axes', titlesize=SMALL_SIZE)                     # fontsize of the axes title\n",
    "plt.rc('axes', labelsize=MEDIUM_SIZE)                    # fontsize of the x and y labels\n",
    "plt.rc('xtick', labelsize=SMALL_SIZE, direction='in')    # fontsize of the tick labels\n",
    "plt.rc('ytick', labelsize=SMALL_SIZE, direction='in')    # fontsize of the tick labels\n",
    "plt.rc('legend', fontsize=SMALL_SIZE)                    # legend fontsize\n",
    "plt.rc('figure', titlesize=BIGGER_SIZE)                  # fontsize of the figure title\n",
    "plt.rc('figure', figsize='8, 6')                         # size of the figure, used to be '4, 3' in inches\n",
    "\n",
    "# data\n",
    "x = np.arange(1, 11, 1)\n",
    "err=np.full((10),0.2)\n",
    "\n",
    "plt.figure()\n",
    "plt.errorbar(x, Tc, yerr=err, ls='None', marker='o', markersize=7, capsize=7)\n",
    "plt.xticks(x) # Simply put a label for each sample\n",
    "plt.xlabel('Sample number')\n",
    "plt.yticks((9.0,9.5,10.0,10.5,11.0))\n",
    "plt.ylabel('Critical Temperature $T_c$ (K)')\n",
    "plt.ylim(9,11)\n",
    "plt.show()"
   ]
  },
  {
   "cell_type": "markdown",
   "metadata": {},
   "source": [
    "According to the hypothesis it is suggested that all measurements of $T_c$ correspond to the same true value with the differences between measurement explained by measurement errors.\n",
    "\n",
    "### a) Calculate the average value of $T_c$ and the error bar"
   ]
  },
  {
   "cell_type": "code",
   "execution_count": null,
   "metadata": {},
   "outputs": [],
   "source": []
  },
  {
   "cell_type": "markdown",
   "metadata": {},
   "source": [
    "This value minimizes the least squares defined by\n",
    "\n",
    "$$\\chi^2 = \\sum_i (y_i - \\bar{y})^2$$\n",
    "\n",
    "and is thus by definition the best fit to the data. \n",
    "\n",
    "### b) Calculate this minimum value of $\\chi^2$"
   ]
  },
  {
   "cell_type": "code",
   "execution_count": null,
   "metadata": {},
   "outputs": [],
   "source": []
  },
  {
   "cell_type": "markdown",
   "metadata": {},
   "source": [
    "### c) Determine the number of degrees of freedom"
   ]
  },
  {
   "cell_type": "code",
   "execution_count": null,
   "metadata": {},
   "outputs": [],
   "source": []
  },
  {
   "cell_type": "markdown",
   "metadata": {},
   "source": [
    "### d) Given the value of $\\chi^2$, do you believe that the samples are indeed identical? \n",
    "\n",
    "Hint: calculate the probability that you find a value of $\\chi^2$ smaller or equal than the value obtained in b) by taking into account the error bar on the measurement and the number of degrees of freedom."
   ]
  },
  {
   "cell_type": "code",
   "execution_count": null,
   "metadata": {},
   "outputs": [],
   "source": []
  }
 ],
 "metadata": {
  "kernelspec": {
   "display_name": "Python 3",
   "language": "python",
   "name": "python3"
  },
  "language_info": {
   "codemirror_mode": {
    "name": "ipython",
    "version": 3
   },
   "file_extension": ".py",
   "mimetype": "text/x-python",
   "name": "python",
   "nbconvert_exporter": "python",
   "pygments_lexer": "ipython3",
   "version": "3.7.4"
  }
 },
 "nbformat": 4,
 "nbformat_minor": 2
}
