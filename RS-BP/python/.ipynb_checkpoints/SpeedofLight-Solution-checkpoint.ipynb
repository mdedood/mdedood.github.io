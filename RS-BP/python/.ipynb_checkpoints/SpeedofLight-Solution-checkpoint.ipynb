{
 "cells": [
  {
   "cell_type": "markdown",
   "metadata": {},
   "source": [
    "## Exercise 1: Weighted Average\n",
    "\n",
    "The purpose of this exercise is to calculate the weighted average of a number of different measurements of the speed of light. This exercise can be done with pen and paper, excel or whatever tool you like. This notebook is structured in a way that facilitates working with the Pandas library.\n",
    "\n",
    "This notebook helps to (marginally) develop your python skills and avoids you typing all the values. The exercise is meant to make you think about what you are doing and not so much how to do it. \n",
    "\n",
    "Given are the outcome of 5 measurements of the speed of light in km/sec from different experiment. Each measurement has a specified error defined as a standard deviation sigma. Both are stored in a numpy array to facilitate operation on these arrays"
   ]
  },
  {
   "cell_type": "code",
   "execution_count": 1,
   "metadata": {},
   "outputs": [],
   "source": [
    "# speed of light in km/sec including the error specified as a standard deviation\n",
    "import numpy as np\n",
    "speed=np.array([299794, 299791, 299770, 299789, 299790])\n",
    "sigma=np.array([3, 5, 2, 3, 4])"
   ]
  },
  {
   "cell_type": "code",
   "execution_count": 2,
   "metadata": {},
   "outputs": [
    {
     "data": {
      "text/html": [
       "<div>\n",
       "<style scoped>\n",
       "    .dataframe tbody tr th:only-of-type {\n",
       "        vertical-align: middle;\n",
       "    }\n",
       "\n",
       "    .dataframe tbody tr th {\n",
       "        vertical-align: top;\n",
       "    }\n",
       "\n",
       "    .dataframe thead th {\n",
       "        text-align: right;\n",
       "    }\n",
       "</style>\n",
       "<table border=\"1\" class=\"dataframe\">\n",
       "  <thead>\n",
       "    <tr style=\"text-align: right;\">\n",
       "      <th></th>\n",
       "      <th>speed</th>\n",
       "      <th>sigma</th>\n",
       "    </tr>\n",
       "  </thead>\n",
       "  <tbody>\n",
       "    <tr>\n",
       "      <td>0</td>\n",
       "      <td>299794</td>\n",
       "      <td>3</td>\n",
       "    </tr>\n",
       "    <tr>\n",
       "      <td>1</td>\n",
       "      <td>299791</td>\n",
       "      <td>5</td>\n",
       "    </tr>\n",
       "    <tr>\n",
       "      <td>2</td>\n",
       "      <td>299770</td>\n",
       "      <td>2</td>\n",
       "    </tr>\n",
       "    <tr>\n",
       "      <td>3</td>\n",
       "      <td>299789</td>\n",
       "      <td>3</td>\n",
       "    </tr>\n",
       "    <tr>\n",
       "      <td>4</td>\n",
       "      <td>299790</td>\n",
       "      <td>4</td>\n",
       "    </tr>\n",
       "  </tbody>\n",
       "</table>\n",
       "</div>"
      ],
      "text/plain": [
       "    speed  sigma\n",
       "0  299794      3\n",
       "1  299791      5\n",
       "2  299770      2\n",
       "3  299789      3\n",
       "4  299790      4"
      ]
     },
     "execution_count": 2,
     "metadata": {},
     "output_type": "execute_result"
    }
   ],
   "source": [
    "# the pandas library can be useful to deal with data. Here we only use it to display the data as a table\n",
    "import pandas as pd\n",
    "pd.DataFrame(data=list(zip(speed,sigma)),columns=['speed','sigma'])"
   ]
  },
  {
   "cell_type": "markdown",
   "metadata": {},
   "source": [
    "## Calculate the best value of the weighted average and include an error bar on the result given the above values. Motivate your answer. \n",
    "\n",
    "### Hints and tips\n",
    "\n",
    "You could consider using a built-in averaging function in numpy. For instance one could simply call the numpy function via np.average(). See https://docs.scipy.org/doc/numpy/reference/generated/numpy.average.html for details. The use of numpy arrays will now become very useful as you can do operations on each element in the list, e.g. multiply all elements by a number, or square all the elements.\n",
    "\n",
    "The normal average given as the incorrect answer below should give 299786.8 km/sec, but this value does not take into account the error bars.\n",
    "\n",
    "The answer 299781.9 +/- 1.3 km/sec is not a correct answer, unless you can motivate that this should be the correct answer. I find 299791.1 +/- 1.8 km/sec a better and more acceptable answer. (Maybe it should be 299791 +/- 2 km/sec if you take into account significant digits)."
   ]
  },
  {
   "cell_type": "code",
   "execution_count": 3,
   "metadata": {},
   "outputs": [
    {
     "name": "stdout",
     "output_type": "stream",
     "text": [
      "The average speed of light is 299786.8 \n",
      "\n",
      "The weighted average speed of light is 299781.9 +/- 1.3 km/sec \n",
      "\n",
      "The weighted average speed of light is 299791.1 +/- 1.8 km/sec \n",
      "\n"
     ]
    },
    {
     "data": {
      "image/png": "[encoded data removed]",
      "text/plain": [
       "<Figure size 576x432 with 1 Axes>"
      ]
     },
     "metadata": {
      "needs_background": "light"
     },
     "output_type": "display_data"
    }
   ],
   "source": [
    "# Insert your Python code to calculate the weighted average here\n",
    "\n",
    "# This is the normal average and is not the correct answer\n",
    "print(\"The average speed of light is %6.1f \\n\" % np.average(speed))   \n",
    "\n",
    "# This answer without a motivation is also incorrect\n",
    "avg=np.average(speed,weights=1.0/sigma**2) # This gives a weighted average with a weight of the inverse variance\n",
    "err=np.sqrt(1.0/np.sum(1.0/sigma**2))\n",
    "\n",
    "print(\"The weighted average speed of light is %6.1f +/- %2.1f km/sec \\n\" % (avg,err))\n",
    "\n",
    "# I find the following answer more acceptable\n",
    "\n",
    "speed2=np.array([299794, 299791, 299789, 299790])\n",
    "sigma2=np.array([3, 5, 3, 4])\n",
    "avg2=np.average(speed2, weights=1.0/sigma2**2)\n",
    "err2=np.sqrt(1.0/np.sum(1.0/sigma2**2))\n",
    "\n",
    "print(\"The weighted average speed of light is %6.1f +/- %2.1f km/sec \\n\" % (avg2,err2))\n",
    "\n",
    "# Motivation/explanation of the calculation.\n",
    "\n",
    "# The issue with calculating the average becomes evident when you P-L-O-T the data! \n",
    "# I will make an ugly plot with a strange y-axis with +2977e5 above the axis \n",
    "# If you really want to fix this look at https://matplotlib.org/examples/pylab_examples/broken_axis.html\n",
    "\n",
    "import matplotlib.pyplot as plt  \n",
    "# Enable inline plotting\n",
    "%matplotlib inline \n",
    "\n",
    "# Some default styling for the figures; best solution is once at the beginning of the code\n",
    "# See https://matplotlib.org/3.1.3/tutorials/introductory/customizing.html\n",
    "# These settings assume that you have used import matplotlib.pyplot as plt \n",
    "\n",
    "# Smallest font size is a 10 point font for a 4 inch wide figure. \n",
    "# font sizes and figure size are scaled by a factor 2 to have a large figure on the screen\n",
    "\n",
    "SMALL_SIZE = 10*2                                        \n",
    "MEDIUM_SIZE = 12*2\n",
    "BIGGER_SIZE = 14*2\n",
    "\n",
    "plt.rc('font', size=SMALL_SIZE, family='serif')          # controls default text sizes\n",
    "plt.rc('axes', titlesize=SMALL_SIZE)                     # fontsize of the axes title\n",
    "plt.rc('axes', labelsize=MEDIUM_SIZE)                    # fontsize of the x and y labels\n",
    "plt.rc('xtick', labelsize=SMALL_SIZE, direction='in')    # fontsize of the tick labels\n",
    "plt.rc('ytick', labelsize=SMALL_SIZE, direction='in')    # fontsize of the tick labels\n",
    "plt.rc('legend', fontsize=SMALL_SIZE)                    # legend fontsize\n",
    "plt.rc('figure', titlesize=BIGGER_SIZE)                  # fontsize of the figure title\n",
    "plt.rc('figure', figsize='8, 6')                         # size of the figure, used to be '4, 3' in inches\n",
    "\n",
    "# example data\n",
    "x = np.arange(1, 6, 1)\n",
    "y = -0.5*(x-3)*(x-3)+2\n",
    "\n",
    "# example variable error bar values\n",
    "yerr = 0.1 + 0.2*np.sqrt(x)\n",
    "\n",
    "plt.errorbar(x, speed, yerr=sigma, ls='None', marker='o', markersize=7, capsize=7)\n",
    "plt.xlabel('Measurement number')\n",
    "plt.ylabel('Speed of light (km/sec)')\n",
    "\n",
    "y2=x*0+avg\n",
    "y3=x*0+avg2\n",
    "\n",
    "plt.plot(x,y2,ls='dashed', color='red')\n",
    "plt.plot(x,y3,ls='solid', color='black')\n",
    "plt.show()"
   ]
  },
  {
   "cell_type": "code",
   "execution_count": null,
   "metadata": {},
   "outputs": [],
   "source": []
  }
 ],
 "metadata": {
  "kernelspec": {
   "display_name": "Python 3",
   "language": "python",
   "name": "python3"
  },
  "language_info": {
   "codemirror_mode": {
    "name": "ipython",
    "version": 3
   },
   "file_extension": ".py",
   "mimetype": "text/x-python",
   "name": "python",
   "nbconvert_exporter": "python",
   "pygments_lexer": "ipython3",
   "version": "3.7.4"
  }
 },
 "nbformat": 4,
 "nbformat_minor": 2
}
