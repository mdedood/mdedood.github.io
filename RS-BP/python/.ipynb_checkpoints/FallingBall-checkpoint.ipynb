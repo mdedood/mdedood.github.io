{
 "cells": [
  {
   "cell_type": "markdown",
   "metadata": {},
   "source": [
    "# Exercise 3: Determining the gravitational constant\n",
    "\n",
    "We try to determine the gravitational constant $g$ from an experiment. In the experiment a small metal sphere is released from an adjustable height $h$ and the time to reach the ground is recorded. The sphere is held in place by an electro-magnet and is dropped at time $t = 0$ using a switch that simultaneously starts a measurement of the time. The measurement is stopped when the sphere reaches the ground and thus the time is recorded. There are possible delays in both the moment that the electro-magnet releases the ball and the starting and stopping of the time recording device. \n",
    "\n",
    "Repeated measurements for different initial heights result in a set of data that we can compare to the known relation \n",
    "\n",
    "$$h = \\frac{1}{2} g t^2$$\n",
    "\n",
    "to determine $g$. We assume that errors in the height are negligible and that a measurement of the time is accurate to 0.01 sec (standard deviation).\n",
    "\n",
    "The data is stored in the file [timeandheight.dat](timeandheight.dat) and is in comma separated format. We will first read in the data using the numpy loadtxt function."
   ]
  },
  {
   "cell_type": "code",
   "execution_count": 1,
   "metadata": {},
   "outputs": [
    {
     "name": "stdout",
     "output_type": "stream",
     "text": [
      "h = 0.200 m \t t = 0.160 +/- 0.01 s\n",
      "h = 1.000 m \t t = 0.400 +/- 0.01 s\n",
      "h = 2.000 m \t t = 0.580 +/- 0.01 s\n",
      "h = 3.000 m \t t = 0.720 +/- 0.01 s\n",
      "h = 5.000 m \t t = 0.970 +/- 0.01 s\n"
     ]
    }
   ],
   "source": [
    "import numpy as np\n",
    "\n",
    "t, h = np.loadtxt('timeandheight.dat', delimiter=',', skiprows=5, usecols=(0, 1), unpack=True)\n",
    "# time is in seconds, height is in meters\n",
    "\n",
    "for i in range(len(t)):\n",
    "    print('h = %4.3f m \\t t = %4.3f +/- 0.01 s' % (h[i],t[i]))\n"
   ]
  },
  {
   "cell_type": "markdown",
   "metadata": {},
   "source": [
    "Assume that the sphere really starts to fall at $t = 0$, i.e. that the magnet releases the ball as soon as the button is pressed.\n",
    "\n",
    "### a) Determine a best estimate (weighted average) of the gravitational constant $g$ and an error bar without using a curve-fit or optimization routine.\n",
    "\n",
    "It could be useful to use a formula to propagate the error or uncertainty in the time measurement. See https://en.wikipedia.org/wiki/Propagation_of_uncertainty"
   ]
  },
  {
   "cell_type": "code",
   "execution_count": null,
   "metadata": {},
   "outputs": [],
   "source": []
  },
  {
   "cell_type": "markdown",
   "metadata": {},
   "source": [
    "### b) Repeat the exercise, but use a curve-fitting tool or least-squares optimization to find a best fit. What is the estimated error on the gravitational constant?"
   ]
  },
  {
   "cell_type": "code",
   "execution_count": null,
   "metadata": {},
   "outputs": [],
   "source": []
  },
  {
   "cell_type": "markdown",
   "metadata": {},
   "source": [
    "The assumption that the ball is released when the button is pressed is not realistic. It usually takes some time for the currents to reach zero. Take this effect into account in your data analysis by introducing an unknown time delay. \n",
    "\n",
    "### c) What is the best estimate for the  value of the gravitational constant and what is the error bar in this case?"
   ]
  },
  {
   "cell_type": "code",
   "execution_count": null,
   "metadata": {},
   "outputs": [],
   "source": []
  },
  {
   "cell_type": "markdown",
   "metadata": {},
   "source": [
    "### d) Compare your answers for the three cases and discuss the difference."
   ]
  },
  {
   "cell_type": "code",
   "execution_count": null,
   "metadata": {},
   "outputs": [],
   "source": []
  },
  {
   "cell_type": "markdown",
   "metadata": {},
   "source": [
    "### e) Which of the two models provides a better fit to the data and why?"
   ]
  },
  {
   "cell_type": "code",
   "execution_count": null,
   "metadata": {},
   "outputs": [],
   "source": []
  }
 ],
 "metadata": {
  "kernelspec": {
   "display_name": "Python 3",
   "language": "python",
   "name": "python3"
  },
  "language_info": {
   "codemirror_mode": {
    "name": "ipython",
    "version": 3
   },
   "file_extension": ".py",
   "mimetype": "text/x-python",
   "name": "python",
   "nbconvert_exporter": "python",
   "pygments_lexer": "ipython3",
   "version": "3.7.4"
  }
 },
 "nbformat": 4,
 "nbformat_minor": 2
}
