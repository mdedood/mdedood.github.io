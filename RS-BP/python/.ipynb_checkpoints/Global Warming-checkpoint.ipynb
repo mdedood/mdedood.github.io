{
 "cells": [
  {
   "cell_type": "markdown",
   "metadata": {},
   "source": [
    "# Exercise 7: Global warming in the Netherlands?\n",
    "\n",
    "\n",
    "The Dutch KNMI organization measures, among others, the temperature in the Netherlands. Complete datasets of recorded temperatures are available via https://www.knmi.nl/nederland-nu/klimatologie-metingen-en-waarnemingen . Of particular interest for this exercise in the 'average' temperature per month since 1906 corrected for changes in the location of stations and methods of measurement. See http://www.knmi.nl/kennis-en-datacentrum/achtergrond/centraal-nederland-temperatuur-cnt for more background information on these measurements. \n",
    "\n",
    "The data can be used as input for climate models and is available online as https://cdn.knmi.nl/knmi/asc/klimatologie/onderzoeksgegevens/CNT/tg_CNT.txt \n",
    "\n",
    "In this exercise we will use the advanced pandas library to handle the data. The fastest way to deal with this library is via the cookbook https://pandas.pydata.org/pandas-docs/stable/cookbook.html\n",
    "\n",
    "It is not necessary to download the datafile it can be read directly from the internet using the pandas read_csv fucntion."
   ]
  },
  {
   "cell_type": "code",
   "execution_count": 1,
   "metadata": {},
   "outputs": [
    {
     "data": {
      "text/html": [
       "<div>\n",
       "<style scoped>\n",
       "    .dataframe tbody tr th:only-of-type {\n",
       "        vertical-align: middle;\n",
       "    }\n",
       "\n",
       "    .dataframe tbody tr th {\n",
       "        vertical-align: top;\n",
       "    }\n",
       "\n",
       "    .dataframe thead th {\n",
       "        text-align: right;\n",
       "    }\n",
       "</style>\n",
       "<table border=\"1\" class=\"dataframe\">\n",
       "  <thead>\n",
       "    <tr style=\"text-align: right;\">\n",
       "      <th></th>\n",
       "      <th>YEAR</th>\n",
       "      <th>Jan</th>\n",
       "      <th>Feb</th>\n",
       "      <th>Mar</th>\n",
       "      <th>Apr</th>\n",
       "      <th>May</th>\n",
       "      <th>Jun</th>\n",
       "      <th>Jul</th>\n",
       "      <th>Aug</th>\n",
       "      <th>Sep</th>\n",
       "      <th>Oct</th>\n",
       "      <th>Nov</th>\n",
       "      <th>Dec</th>\n",
       "    </tr>\n",
       "  </thead>\n",
       "  <tbody>\n",
       "    <tr>\n",
       "      <td>0</td>\n",
       "      <td>1906</td>\n",
       "      <td>3.32429</td>\n",
       "      <td>2.29741</td>\n",
       "      <td>3.78348</td>\n",
       "      <td>7.65619</td>\n",
       "      <td>12.4297</td>\n",
       "      <td>14.1998</td>\n",
       "      <td>16.7496</td>\n",
       "      <td>16.9169</td>\n",
       "      <td>13.2947</td>\n",
       "      <td>11.69020</td>\n",
       "      <td>7.56198</td>\n",
       "      <td>-0.21912</td>\n",
       "    </tr>\n",
       "    <tr>\n",
       "      <td>1</td>\n",
       "      <td>1907</td>\n",
       "      <td>1.51254</td>\n",
       "      <td>0.40494</td>\n",
       "      <td>4.58511</td>\n",
       "      <td>7.41965</td>\n",
       "      <td>12.5166</td>\n",
       "      <td>13.5531</td>\n",
       "      <td>13.8619</td>\n",
       "      <td>15.4620</td>\n",
       "      <td>13.7227</td>\n",
       "      <td>11.26630</td>\n",
       "      <td>5.63488</td>\n",
       "      <td>3.13986</td>\n",
       "    </tr>\n",
       "    <tr>\n",
       "      <td>2</td>\n",
       "      <td>1908</td>\n",
       "      <td>-1.24001</td>\n",
       "      <td>3.30636</td>\n",
       "      <td>3.43674</td>\n",
       "      <td>5.86811</td>\n",
       "      <td>12.9866</td>\n",
       "      <td>16.2455</td>\n",
       "      <td>16.6096</td>\n",
       "      <td>15.0095</td>\n",
       "      <td>13.3625</td>\n",
       "      <td>9.81094</td>\n",
       "      <td>4.28813</td>\n",
       "      <td>1.02190</td>\n",
       "    </tr>\n",
       "    <tr>\n",
       "      <td>3</td>\n",
       "      <td>1909</td>\n",
       "      <td>0.55002</td>\n",
       "      <td>0.29838</td>\n",
       "      <td>2.95708</td>\n",
       "      <td>8.53574</td>\n",
       "      <td>11.3026</td>\n",
       "      <td>12.9562</td>\n",
       "      <td>14.5315</td>\n",
       "      <td>16.2449</td>\n",
       "      <td>12.9722</td>\n",
       "      <td>10.97730</td>\n",
       "      <td>3.93653</td>\n",
       "      <td>3.07201</td>\n",
       "    </tr>\n",
       "    <tr>\n",
       "      <td>4</td>\n",
       "      <td>1910</td>\n",
       "      <td>3.27844</td>\n",
       "      <td>4.02948</td>\n",
       "      <td>5.25129</td>\n",
       "      <td>7.83671</td>\n",
       "      <td>12.4597</td>\n",
       "      <td>16.0278</td>\n",
       "      <td>15.1130</td>\n",
       "      <td>16.1327</td>\n",
       "      <td>13.2861</td>\n",
       "      <td>10.39700</td>\n",
       "      <td>3.35544</td>\n",
       "      <td>5.40469</td>\n",
       "    </tr>\n",
       "  </tbody>\n",
       "</table>\n",
       "</div>"
      ],
      "text/plain": [
       "   YEAR      Jan      Feb      Mar      Apr      May      Jun      Jul  \\\n",
       "0  1906  3.32429  2.29741  3.78348  7.65619  12.4297  14.1998  16.7496   \n",
       "1  1907  1.51254  0.40494  4.58511  7.41965  12.5166  13.5531  13.8619   \n",
       "2  1908 -1.24001  3.30636  3.43674  5.86811  12.9866  16.2455  16.6096   \n",
       "3  1909  0.55002  0.29838  2.95708  8.53574  11.3026  12.9562  14.5315   \n",
       "4  1910  3.27844  4.02948  5.25129  7.83671  12.4597  16.0278  15.1130   \n",
       "\n",
       "       Aug      Sep       Oct      Nov      Dec  \n",
       "0  16.9169  13.2947  11.69020  7.56198 -0.21912  \n",
       "1  15.4620  13.7227  11.26630  5.63488  3.13986  \n",
       "2  15.0095  13.3625   9.81094  4.28813  1.02190  \n",
       "3  16.2449  12.9722  10.97730  3.93653  3.07201  \n",
       "4  16.1327  13.2861  10.39700  3.35544  5.40469  "
      ]
     },
     "execution_count": 1,
     "metadata": {},
     "output_type": "execute_result"
    }
   ],
   "source": [
    "import numpy as np\n",
    "import pandas as pd\n",
    "\n",
    "df=pd.read_csv('https://cdn.knmi.nl/knmi/asc/klimatologie/onderzoeksgegevens/CNT/tg_CNT.txt', skiprows=11, delimiter='\\s+')\n",
    "df.columns=df.columns.str.strip(',') #remove the strange comma from the column names\n",
    "df.head()"
   ]
  },
  {
   "cell_type": "markdown",
   "metadata": {},
   "source": [
    "## Example: plotting the average temperature for the month January\n",
    "\n",
    "The dataset starts at 1906 and you can easily plot this data by calling the appropriate column from the pandas dataframe. I called the dataframe 'df' and call the data for the x-axis as 'df['YEAR']' and the y-column as 'df['Jan']' to create a plot of the average temperature for the month January from 1906 until now."
   ]
  },
  {
   "cell_type": "code",
   "execution_count": 2,
   "metadata": {},
   "outputs": [],
   "source": [
    "# plot settings \n",
    "\n",
    "import matplotlib.pyplot as plt\n",
    "%matplotlib inline \n",
    "\n",
    "# Some default styling for the figures; best solution is once at the beginning of the code\n",
    "# See https://matplotlib.org/3.1.3/tutorials/introductory/customizing.html\n",
    "# These settings assume that you have used import matplotlib.pyplot as plt \n",
    "\n",
    "# Smallest font size is a 10 point font for a 4 inch wide figure. \n",
    "# font sizes and figure size are scaled by a factor 2 to have a large figure on the screen\n",
    "\n",
    "SMALL_SIZE = 10*2                                        \n",
    "MEDIUM_SIZE = 12*2\n",
    "BIGGER_SIZE = 14*2\n",
    "\n",
    "plt.rc('font', size=SMALL_SIZE, family='serif')          # controls default text sizes\n",
    "plt.rc('axes', titlesize=SMALL_SIZE)                     # fontsize of the axes title\n",
    "plt.rc('axes', labelsize=MEDIUM_SIZE)                    # fontsize of the x and y labels\n",
    "plt.rc('xtick', labelsize=SMALL_SIZE, direction='in')    # fontsize of the tick labels\n",
    "plt.rc('ytick', labelsize=SMALL_SIZE, direction='in')    # fontsize of the tick labels\n",
    "plt.rc('legend', fontsize=SMALL_SIZE)                    # legend fontsize\n",
    "plt.rc('figure', titlesize=BIGGER_SIZE)                  # fontsize of the figure title\n",
    "plt.rc('figure', figsize='8, 6')                         # size of the figure, used to be '4, 3' in inches"
   ]
  },
  {
   "cell_type": "code",
   "execution_count": 3,
   "metadata": {},
   "outputs": [
    {
     "data": {
      "text/plain": [
       "Text(0, 0.5, 'Temperature')"
      ]
     },
     "execution_count": 3,
     "metadata": {},
     "output_type": "execute_result"
    },
    {
     "data": {
      "image/png": "[encoded data removed]",
      "text/plain": [
       "<Figure size 864x288 with 1 Axes>"
      ]
     },
     "metadata": {
      "needs_background": "light"
     },
     "output_type": "display_data"
    }
   ],
   "source": [
    "plt.figure(figsize=(12,4))\n",
    "plt.plot(df['YEAR'], df['Jan'], ls='solid', marker='o', color='blue')\n",
    "plt.xlabel('Year') # Axes have labels!\n",
    "plt.ylabel('Temperature')"
   ]
  },
  {
   "cell_type": "markdown",
   "metadata": {},
   "source": [
    "### Inspect the data first\n",
    "*The last row in the datafile is incomplete and may cause trouble. The entries for the future are not a number 'NaN' (see below) and I hope (but did not check) that these are ignored when calculating an average. This happens unless you run this notebook in January.*\n",
    "\n",
    "This issue can be avoided by dropping a row of data. using a command like: \n",
    "\n",
    "df=df.drop(112)\n",
    "\n",
    "This command creates an new pandas dataframe named 'df2' that does not include row 112. You need to inspect the end of the data using the df.tail() command. (df.head() checks the top of the file). After dropping a column it is advised to check the new dataframe, i.e. use \n",
    "\n",
    "df.tail()"
   ]
  },
  {
   "cell_type": "code",
   "execution_count": 4,
   "metadata": {},
   "outputs": [
    {
     "data": {
      "text/html": [
       "<div>\n",
       "<style scoped>\n",
       "    .dataframe tbody tr th:only-of-type {\n",
       "        vertical-align: middle;\n",
       "    }\n",
       "\n",
       "    .dataframe tbody tr th {\n",
       "        vertical-align: top;\n",
       "    }\n",
       "\n",
       "    .dataframe thead th {\n",
       "        text-align: right;\n",
       "    }\n",
       "</style>\n",
       "<table border=\"1\" class=\"dataframe\">\n",
       "  <thead>\n",
       "    <tr style=\"text-align: right;\">\n",
       "      <th></th>\n",
       "      <th>YEAR</th>\n",
       "      <th>Jan</th>\n",
       "      <th>Feb</th>\n",
       "      <th>Mar</th>\n",
       "      <th>Apr</th>\n",
       "      <th>May</th>\n",
       "      <th>Jun</th>\n",
       "      <th>Jul</th>\n",
       "      <th>Aug</th>\n",
       "      <th>Sep</th>\n",
       "      <th>Oct</th>\n",
       "      <th>Nov</th>\n",
       "      <th>Dec</th>\n",
       "    </tr>\n",
       "  </thead>\n",
       "  <tbody>\n",
       "    <tr>\n",
       "      <td>111</td>\n",
       "      <td>2017</td>\n",
       "      <td>0.93280</td>\n",
       "      <td>5.11369</td>\n",
       "      <td>8.66613</td>\n",
       "      <td>8.28889</td>\n",
       "      <td>15.28172</td>\n",
       "      <td>18.50444</td>\n",
       "      <td>18.15753</td>\n",
       "      <td>17.44677</td>\n",
       "      <td>13.71833</td>\n",
       "      <td>13.04624</td>\n",
       "      <td>6.70667</td>\n",
       "      <td>4.59247</td>\n",
       "    </tr>\n",
       "    <tr>\n",
       "      <td>112</td>\n",
       "      <td>2018</td>\n",
       "      <td>5.44355</td>\n",
       "      <td>0.18690</td>\n",
       "      <td>4.65645</td>\n",
       "      <td>12.45889</td>\n",
       "      <td>16.71935</td>\n",
       "      <td>17.79889</td>\n",
       "      <td>21.43602</td>\n",
       "      <td>19.03226</td>\n",
       "      <td>14.94000</td>\n",
       "      <td>11.92151</td>\n",
       "      <td>6.62611</td>\n",
       "      <td>5.77688</td>\n",
       "    </tr>\n",
       "    <tr>\n",
       "      <td>113</td>\n",
       "      <td>2019</td>\n",
       "      <td>2.92581</td>\n",
       "      <td>5.97976</td>\n",
       "      <td>7.92581</td>\n",
       "      <td>10.84278</td>\n",
       "      <td>11.80054</td>\n",
       "      <td>18.78278</td>\n",
       "      <td>19.15323</td>\n",
       "      <td>18.81398</td>\n",
       "      <td>14.61056</td>\n",
       "      <td>11.70538</td>\n",
       "      <td>6.15722</td>\n",
       "      <td>5.60269</td>\n",
       "    </tr>\n",
       "    <tr>\n",
       "      <td>114</td>\n",
       "      <td>2020</td>\n",
       "      <td>5.75968</td>\n",
       "      <td>6.91667</td>\n",
       "      <td>6.78065</td>\n",
       "      <td>11.37167</td>\n",
       "      <td>13.27742</td>\n",
       "      <td>17.76889</td>\n",
       "      <td>17.11344</td>\n",
       "      <td>20.55806</td>\n",
       "      <td>15.32833</td>\n",
       "      <td>11.25000</td>\n",
       "      <td>8.57278</td>\n",
       "      <td>5.38495</td>\n",
       "    </tr>\n",
       "    <tr>\n",
       "      <td>115</td>\n",
       "      <td>2021</td>\n",
       "      <td>3.08065</td>\n",
       "      <td>4.11250</td>\n",
       "      <td>6.35591</td>\n",
       "      <td>6.46056</td>\n",
       "      <td>11.37742</td>\n",
       "      <td>18.71333</td>\n",
       "      <td>18.06667</td>\n",
       "      <td>16.86344</td>\n",
       "      <td>15.85833</td>\n",
       "      <td>11.38548</td>\n",
       "      <td>6.54833</td>\n",
       "      <td>5.20753</td>\n",
       "    </tr>\n",
       "  </tbody>\n",
       "</table>\n",
       "</div>"
      ],
      "text/plain": [
       "     YEAR      Jan      Feb      Mar       Apr       May       Jun       Jul  \\\n",
       "111  2017  0.93280  5.11369  8.66613   8.28889  15.28172  18.50444  18.15753   \n",
       "112  2018  5.44355  0.18690  4.65645  12.45889  16.71935  17.79889  21.43602   \n",
       "113  2019  2.92581  5.97976  7.92581  10.84278  11.80054  18.78278  19.15323   \n",
       "114  2020  5.75968  6.91667  6.78065  11.37167  13.27742  17.76889  17.11344   \n",
       "115  2021  3.08065  4.11250  6.35591   6.46056  11.37742  18.71333  18.06667   \n",
       "\n",
       "          Aug       Sep       Oct      Nov      Dec  \n",
       "111  17.44677  13.71833  13.04624  6.70667  4.59247  \n",
       "112  19.03226  14.94000  11.92151  6.62611  5.77688  \n",
       "113  18.81398  14.61056  11.70538  6.15722  5.60269  \n",
       "114  20.55806  15.32833  11.25000  8.57278  5.38495  \n",
       "115  16.86344  15.85833  11.38548  6.54833  5.20753  "
      ]
     },
     "execution_count": 4,
     "metadata": {},
     "output_type": "execute_result"
    }
   ],
   "source": [
    "df.tail()"
   ]
  },
  {
   "cell_type": "code",
   "execution_count": 5,
   "metadata": {},
   "outputs": [],
   "source": [
    "# df = df.drop(114)  # Potentially needed if the last row in the dataframe contains NaN entries\n",
    "# df.tail()"
   ]
  },
  {
   "cell_type": "markdown",
   "metadata": {},
   "source": [
    "## Checking the monthly temperatures"
   ]
  },
  {
   "cell_type": "markdown",
   "metadata": {},
   "source": [
    "### a) Combine the data to obtain the average temperature and standard deviation for each month over the period 1906-now"
   ]
  },
  {
   "cell_type": "code",
   "execution_count": null,
   "metadata": {},
   "outputs": [],
   "source": []
  },
  {
   "cell_type": "markdown",
   "metadata": {},
   "source": [
    "As the earth revolves around the sun, the distance between earth and sun has a sinusoidal dependence on time due to the inclination of the rotation axis of the earth. \n",
    "\n",
    "### b) Construct a model and check if the average temperature per month can be described by a sinusoidal function by fitting the data to such a model. "
   ]
  },
  {
   "cell_type": "code",
   "execution_count": null,
   "metadata": {},
   "outputs": [],
   "source": []
  },
  {
   "cell_type": "markdown",
   "metadata": {},
   "source": [
    "### c) What is the average temperature $T_{avg}$ in the Netherlands for the period 1906-now? Which month is the coldest month? Which month is the hottest?"
   ]
  },
  {
   "cell_type": "code",
   "execution_count": null,
   "metadata": {},
   "outputs": [],
   "source": []
  },
  {
   "cell_type": "markdown",
   "metadata": {},
   "source": [
    "### d) Is the data of KNMI well described by the simple sinusoidal model based on the value of $\\chi^2$?"
   ]
  },
  {
   "cell_type": "code",
   "execution_count": null,
   "metadata": {},
   "outputs": [],
   "source": []
  },
  {
   "cell_type": "markdown",
   "metadata": {},
   "source": [
    "## Global warming: analyzing the average temperature in the Netherlands since 1906"
   ]
  },
  {
   "cell_type": "markdown",
   "metadata": {},
   "source": [
    "A much more heated debate is the issue of global warming. For a more solid scientific basis for the effect I refer to online information http://climate.nasa.gov/. Let’s try to look at local warming using the data from KNMI.\n",
    "\n",
    "### e) Calculate the average annual temperature by averaging over all 12 months for each year and plot this average annual temperature for the period 1906-now\n",
    "\n",
    "If all is well you should get some noisy data, showing a gradual, slow increase with time. "
   ]
  },
  {
   "cell_type": "code",
   "execution_count": null,
   "metadata": {},
   "outputs": [],
   "source": []
  },
  {
   "cell_type": "markdown",
   "metadata": {},
   "source": [
    "### f) Fit the data to a straight line and find the increase in average temperature in the Netherlands for the period 1906-now."
   ]
  },
  {
   "cell_type": "code",
   "execution_count": null,
   "metadata": {},
   "outputs": [],
   "source": []
  },
  {
   "cell_type": "markdown",
   "metadata": {},
   "source": [
    "Consider the hypothesis that there is no measurable effect of local warming, assuming that the trend in the data is due to some random statistical fluctuations. \n",
    "\n",
    "### g) Test this hypothesis by constructing a model and looking at the goodness of fit."
   ]
  },
  {
   "cell_type": "code",
   "execution_count": null,
   "metadata": {},
   "outputs": [],
   "source": []
  },
  {
   "cell_type": "markdown",
   "metadata": {},
   "source": [
    "*For a solid scientific discussion on the origin of the trend consider that the effect of greenhouse gasses in the atmosphere https://en.wikipedia.org/wiki/Greenhouse_gas and the fact that the solar activity varies over time https://en.wikipedia.org/wiki/Solar_cycle. Also consider that the average temperature in the Netherlands might be a very poor measure of the global average temperature.*"
   ]
  }
 ],
 "metadata": {
  "kernelspec": {
   "display_name": "Python 3",
   "language": "python",
   "name": "python3"
  },
  "language_info": {
   "codemirror_mode": {
    "name": "ipython",
    "version": 3
   },
   "file_extension": ".py",
   "mimetype": "text/x-python",
   "name": "python",
   "nbconvert_exporter": "python",
   "pygments_lexer": "ipython3",
   "version": "3.7.4"
  }
 },
 "nbformat": 4,
 "nbformat_minor": 2
}
