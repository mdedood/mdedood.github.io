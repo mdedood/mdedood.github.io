{
 "cells": [
  {
   "cell_type": "markdown",
   "metadata": {},
   "source": [
    "# Exercise 7: Global warming in the Netherlands?\n",
    "\n",
    "\n",
    "The Dutch KNMI organization measures, among others, the temperature in the Netherlands. Complete datasets of recorded temperatures are available via https://www.knmi.nl/nederland-nu/klimatologie-metingen-en-waarnemingen . Of particular interest for this exercise in the 'average' temperature per month since 1906 corrected for changes in the location of stations and methods of measurement. See http://www.knmi.nl/kennis-en-datacentrum/achtergrond/centraal-nederland-temperatuur-cnt for more background information on these measurements. \n",
    "\n",
    "The data can be used as input for climate models and is available online as https://climexp.knmi.nl/data/tcnt_v11.dat \n",
    "\n",
    "In this exercise we will use the advanced pandas library to handle the data. The fastest way to deal with this library is via the cookbook https://pandas.pydata.org/pandas-docs/stable/cookbook.html\n",
    "\n",
    "It is not necessary to download the datafile it can be read directly from the internet using the pandas read_csv fucntion."
   ]
  },
  {
   "cell_type": "code",
   "execution_count": 1,
   "metadata": {},
   "outputs": [],
   "source": [
    "import numpy as np\n",
    "import pandas as pd"
   ]
  },
  {
   "cell_type": "code",
   "execution_count": 2,
   "metadata": {},
   "outputs": [
    {
     "name": "stdout",
     "output_type": "stream",
     "text": [
      "Index(['YEAR', 'Jan', 'Feb', 'Mar', 'Apr', 'May', 'Jun', 'Jul', 'Aug', 'Sep',\n",
      "       'Oct', 'Nov', 'Dec'],\n",
      "      dtype='object')\n"
     ]
    }
   ],
   "source": [
    "# This is the link to the old CNT file. The file is empty and contains only a header with column names\n",
    "# Most likely the file will go offline at some point. To avoid further issues I define the column names\n",
    "\n",
    "header=pd.read_csv('https://cdn.knmi.nl/knmi/asc/klimatologie/onderzoeksgegevens/CNT/tg_CNT.txt', \n",
    "                   skiprows=11, delimiter='\\s+')\n",
    "header.columns=header.columns.str.strip(',') #remove the strange comma from the column names\n",
    "print(header.columns)\n",
    "\n",
    "column_names = ['YEAR', 'Jan', 'Feb', 'Mar', 'Apr', 'May', 'Jun', 'Jul', 'Aug', 'Sep',\n",
    "       'Oct', 'Nov', 'Dec']"
   ]
  },
  {
   "cell_type": "code",
   "execution_count": 3,
   "metadata": {},
   "outputs": [
    {
     "data": {
      "text/html": [
       "<div>\n",
       "<style scoped>\n",
       "    .dataframe tbody tr th:only-of-type {\n",
       "        vertical-align: middle;\n",
       "    }\n",
       "\n",
       "    .dataframe tbody tr th {\n",
       "        vertical-align: top;\n",
       "    }\n",
       "\n",
       "    .dataframe thead th {\n",
       "        text-align: right;\n",
       "    }\n",
       "</style>\n",
       "<table border=\"1\" class=\"dataframe\">\n",
       "  <thead>\n",
       "    <tr style=\"text-align: right;\">\n",
       "      <th></th>\n",
       "      <th>YEAR</th>\n",
       "      <th>Jan</th>\n",
       "      <th>Feb</th>\n",
       "      <th>Mar</th>\n",
       "      <th>Apr</th>\n",
       "      <th>May</th>\n",
       "      <th>Jun</th>\n",
       "      <th>Jul</th>\n",
       "      <th>Aug</th>\n",
       "      <th>Sep</th>\n",
       "      <th>Oct</th>\n",
       "      <th>Nov</th>\n",
       "      <th>Dec</th>\n",
       "    </tr>\n",
       "  </thead>\n",
       "  <tbody>\n",
       "    <tr>\n",
       "      <th>0</th>\n",
       "      <td>1906</td>\n",
       "      <td>3.29</td>\n",
       "      <td>2.28</td>\n",
       "      <td>3.79</td>\n",
       "      <td>7.67</td>\n",
       "      <td>12.41</td>\n",
       "      <td>14.17</td>\n",
       "      <td>16.79</td>\n",
       "      <td>17.00</td>\n",
       "      <td>13.35</td>\n",
       "      <td>11.65</td>\n",
       "      <td>7.50</td>\n",
       "      <td>-0.28</td>\n",
       "    </tr>\n",
       "    <tr>\n",
       "      <th>1</th>\n",
       "      <td>1907</td>\n",
       "      <td>1.48</td>\n",
       "      <td>0.41</td>\n",
       "      <td>4.60</td>\n",
       "      <td>7.43</td>\n",
       "      <td>12.49</td>\n",
       "      <td>13.52</td>\n",
       "      <td>13.90</td>\n",
       "      <td>15.55</td>\n",
       "      <td>13.79</td>\n",
       "      <td>11.24</td>\n",
       "      <td>5.58</td>\n",
       "      <td>3.09</td>\n",
       "    </tr>\n",
       "    <tr>\n",
       "      <th>2</th>\n",
       "      <td>1908</td>\n",
       "      <td>-1.25</td>\n",
       "      <td>3.29</td>\n",
       "      <td>3.44</td>\n",
       "      <td>5.89</td>\n",
       "      <td>12.98</td>\n",
       "      <td>16.22</td>\n",
       "      <td>16.65</td>\n",
       "      <td>15.08</td>\n",
       "      <td>13.43</td>\n",
       "      <td>9.78</td>\n",
       "      <td>4.23</td>\n",
       "      <td>0.97</td>\n",
       "    </tr>\n",
       "    <tr>\n",
       "      <th>3</th>\n",
       "      <td>1909</td>\n",
       "      <td>0.54</td>\n",
       "      <td>0.30</td>\n",
       "      <td>2.97</td>\n",
       "      <td>8.55</td>\n",
       "      <td>11.30</td>\n",
       "      <td>12.94</td>\n",
       "      <td>14.58</td>\n",
       "      <td>16.31</td>\n",
       "      <td>13.02</td>\n",
       "      <td>10.95</td>\n",
       "      <td>3.89</td>\n",
       "      <td>3.01</td>\n",
       "    </tr>\n",
       "    <tr>\n",
       "      <th>4</th>\n",
       "      <td>1910</td>\n",
       "      <td>3.26</td>\n",
       "      <td>4.03</td>\n",
       "      <td>5.26</td>\n",
       "      <td>7.84</td>\n",
       "      <td>12.43</td>\n",
       "      <td>16.00</td>\n",
       "      <td>15.15</td>\n",
       "      <td>16.22</td>\n",
       "      <td>13.35</td>\n",
       "      <td>10.38</td>\n",
       "      <td>3.31</td>\n",
       "      <td>5.34</td>\n",
       "    </tr>\n",
       "  </tbody>\n",
       "</table>\n",
       "</div>"
      ],
      "text/plain": [
       "   YEAR   Jan   Feb   Mar   Apr    May    Jun    Jul    Aug    Sep    Oct  \\\n",
       "0  1906  3.29  2.28  3.79  7.67  12.41  14.17  16.79  17.00  13.35  11.65   \n",
       "1  1907  1.48  0.41  4.60  7.43  12.49  13.52  13.90  15.55  13.79  11.24   \n",
       "2  1908 -1.25  3.29  3.44  5.89  12.98  16.22  16.65  15.08  13.43   9.78   \n",
       "3  1909  0.54  0.30  2.97  8.55  11.30  12.94  14.58  16.31  13.02  10.95   \n",
       "4  1910  3.26  4.03  5.26  7.84  12.43  16.00  15.15  16.22  13.35  10.38   \n",
       "\n",
       "    Nov   Dec  \n",
       "0  7.50 -0.28  \n",
       "1  5.58  3.09  \n",
       "2  4.23  0.97  \n",
       "3  3.89  3.01  \n",
       "4  3.31  5.34  "
      ]
     },
     "execution_count": 3,
     "metadata": {},
     "output_type": "execute_result"
    }
   ],
   "source": [
    "# The new header does not contain column names. \n",
    "df=pd.read_csv('https://climexp.knmi.nl/data/tcnt_v11.dat', skiprows=8, delimiter='\\s+', header=None)\n",
    "# Below is a backup of the file from February 2025 that is available via github \n",
    "# df=pd.read_csv('https://mdedood.github.io/RS-BP/python/tcnt_v11.dat', skiprows=8, delimiter='\\s+', header=None) \n",
    "df.columns=column_names # This overwrites the column names with something that makes sense\n",
    "df.head()"
   ]
  },
  {
   "cell_type": "markdown",
   "metadata": {},
   "source": [
    "## Example: plotting the average temperature for the month January\n",
    "\n",
    "The dataset starts at 1906 and you can easily plot this data by calling the appropriate column from the pandas dataframe. I called the dataframe 'df' and call the data for the x-axis as 'df['YEAR']' and the y-column as 'df['Jan']' to create a plot of the average temperature for the month January from 1906 until now."
   ]
  },
  {
   "cell_type": "code",
   "execution_count": 4,
   "metadata": {},
   "outputs": [],
   "source": [
    "# plot settings \n",
    "\n",
    "import matplotlib.pyplot as plt\n",
    "%matplotlib inline \n",
    "\n",
    "# Some default styling for the figures; best solution is once at the beginning of the code\n",
    "# See https://matplotlib.org/3.1.3/tutorials/introductory/customizing.html\n",
    "# These settings assume that you have used import matplotlib.pyplot as plt \n",
    "\n",
    "# Smallest font size is a 10 point font for a 4 inch wide figure. \n",
    "# font sizes and figure size are scaled by a factor 2 to have a large figure on the screen\n",
    "\n",
    "SMALL_SIZE = 10*2                                        \n",
    "MEDIUM_SIZE = 12*2\n",
    "BIGGER_SIZE = 14*2\n",
    "\n",
    "plt.rc('font', size=SMALL_SIZE, family='serif')          # controls default text sizes\n",
    "plt.rc('axes', titlesize=SMALL_SIZE)                     # fontsize of the axes title\n",
    "plt.rc('axes', labelsize=MEDIUM_SIZE)                    # fontsize of the x and y labels\n",
    "plt.rc('xtick', labelsize=SMALL_SIZE, direction='in')    # fontsize of the tick labels\n",
    "plt.rc('ytick', labelsize=SMALL_SIZE, direction='in')    # fontsize of the tick labels\n",
    "plt.rc('legend', fontsize=SMALL_SIZE)                    # legend fontsize\n",
    "plt.rc('figure', titlesize=BIGGER_SIZE)                  # fontsize of the figure title\n",
    "plt.rc('figure', figsize='8, 6')                         # size of the figure, used to be '4, 3' in inches"
   ]
  },
  {
   "cell_type": "code",
   "execution_count": 5,
   "metadata": {},
   "outputs": [
    {
     "data": {
      "text/plain": [
       "Text(0, 0.5, 'Temperature')"
      ]
     },
     "execution_count": 5,
     "metadata": {},
     "output_type": "execute_result"
    },
    {
     "data": {
      "image/png": "[encoded data removed]",
      "text/plain": [
       "<Figure size 864x288 with 1 Axes>"
      ]
     },
     "metadata": {
      "needs_background": "light"
     },
     "output_type": "display_data"
    }
   ],
   "source": [
    "plt.figure(figsize=(12,4))\n",
    "plt.plot(df['YEAR'], df['Jan'], ls='solid', marker='o', color='blue')\n",
    "plt.xlabel('Year') # Axes have labels!\n",
    "plt.ylabel('Temperature')"
   ]
  },
  {
   "cell_type": "markdown",
   "metadata": {},
   "source": [
    "### Inspect the data first\n",
    "*The last row in the datafile is incomplete and may cause trouble. The entries for the future are not a number 'NaN' (see below) and I hope (but did not check) that these are ignored when calculating an average. This happens unless you run this notebook in January.*\n",
    "\n",
    "This issue can be avoided by dropping a row of data. using a command like: \n",
    "\n",
    "df=df.drop(112) # drop row 112\n",
    "\n",
    "or \n",
    "\n",
    "df=df[:-1] # drop the last row \n",
    "\n",
    "You should to inspect the end of the data using the df.tail() command. (df.head() checks the top of the file). After dropping a column it is advised to check the new dataframe, i.e. use \n",
    "\n",
    "df.tail()"
   ]
  },
  {
   "cell_type": "code",
   "execution_count": 6,
   "metadata": {},
   "outputs": [
    {
     "data": {
      "text/html": [
       "<div>\n",
       "<style scoped>\n",
       "    .dataframe tbody tr th:only-of-type {\n",
       "        vertical-align: middle;\n",
       "    }\n",
       "\n",
       "    .dataframe tbody tr th {\n",
       "        vertical-align: top;\n",
       "    }\n",
       "\n",
       "    .dataframe thead th {\n",
       "        text-align: right;\n",
       "    }\n",
       "</style>\n",
       "<table border=\"1\" class=\"dataframe\">\n",
       "  <thead>\n",
       "    <tr style=\"text-align: right;\">\n",
       "      <th></th>\n",
       "      <th>YEAR</th>\n",
       "      <th>Jan</th>\n",
       "      <th>Feb</th>\n",
       "      <th>Mar</th>\n",
       "      <th>Apr</th>\n",
       "      <th>May</th>\n",
       "      <th>Jun</th>\n",
       "      <th>Jul</th>\n",
       "      <th>Aug</th>\n",
       "      <th>Sep</th>\n",
       "      <th>Oct</th>\n",
       "      <th>Nov</th>\n",
       "      <th>Dec</th>\n",
       "    </tr>\n",
       "  </thead>\n",
       "  <tbody>\n",
       "    <tr>\n",
       "      <th>115</th>\n",
       "      <td>2021</td>\n",
       "      <td>3.080645</td>\n",
       "      <td>4.105862</td>\n",
       "      <td>6.355914</td>\n",
       "      <td>6.460556</td>\n",
       "      <td>11.37742</td>\n",
       "      <td>18.71334</td>\n",
       "      <td>18.06667</td>\n",
       "      <td>16.86344</td>\n",
       "      <td>15.85833</td>\n",
       "      <td>11.38548</td>\n",
       "      <td>6.548333</td>\n",
       "      <td>5.207527</td>\n",
       "    </tr>\n",
       "    <tr>\n",
       "      <th>116</th>\n",
       "      <td>2022</td>\n",
       "      <td>4.697312</td>\n",
       "      <td>6.382735</td>\n",
       "      <td>7.223656</td>\n",
       "      <td>9.233333</td>\n",
       "      <td>14.56398</td>\n",
       "      <td>17.44000</td>\n",
       "      <td>18.88280</td>\n",
       "      <td>20.62473</td>\n",
       "      <td>14.68389</td>\n",
       "      <td>13.30215</td>\n",
       "      <td>8.598889</td>\n",
       "      <td>3.819893</td>\n",
       "    </tr>\n",
       "    <tr>\n",
       "      <th>117</th>\n",
       "      <td>2023</td>\n",
       "      <td>5.323656</td>\n",
       "      <td>5.345321</td>\n",
       "      <td>6.987634</td>\n",
       "      <td>8.659444</td>\n",
       "      <td>13.71452</td>\n",
       "      <td>19.88944</td>\n",
       "      <td>18.31505</td>\n",
       "      <td>17.74839</td>\n",
       "      <td>17.87278</td>\n",
       "      <td>13.15000</td>\n",
       "      <td>7.435556</td>\n",
       "      <td>6.614516</td>\n",
       "    </tr>\n",
       "    <tr>\n",
       "      <th>118</th>\n",
       "      <td>2024</td>\n",
       "      <td>3.426344</td>\n",
       "      <td>8.036781</td>\n",
       "      <td>8.902688</td>\n",
       "      <td>10.823330</td>\n",
       "      <td>15.54516</td>\n",
       "      <td>16.02944</td>\n",
       "      <td>18.36236</td>\n",
       "      <td>19.56452</td>\n",
       "      <td>15.75278</td>\n",
       "      <td>11.95323</td>\n",
       "      <td>6.633333</td>\n",
       "      <td>5.517742</td>\n",
       "    </tr>\n",
       "    <tr>\n",
       "      <th>119</th>\n",
       "      <td>2025</td>\n",
       "      <td>3.027957</td>\n",
       "      <td>2.873443</td>\n",
       "      <td>-999.900000</td>\n",
       "      <td>-999.900000</td>\n",
       "      <td>-999.90000</td>\n",
       "      <td>-999.90000</td>\n",
       "      <td>-999.90000</td>\n",
       "      <td>-999.90000</td>\n",
       "      <td>-999.90000</td>\n",
       "      <td>-999.90000</td>\n",
       "      <td>-999.900000</td>\n",
       "      <td>-999.900000</td>\n",
       "    </tr>\n",
       "  </tbody>\n",
       "</table>\n",
       "</div>"
      ],
      "text/plain": [
       "     YEAR       Jan       Feb         Mar         Apr        May        Jun  \\\n",
       "115  2021  3.080645  4.105862    6.355914    6.460556   11.37742   18.71334   \n",
       "116  2022  4.697312  6.382735    7.223656    9.233333   14.56398   17.44000   \n",
       "117  2023  5.323656  5.345321    6.987634    8.659444   13.71452   19.88944   \n",
       "118  2024  3.426344  8.036781    8.902688   10.823330   15.54516   16.02944   \n",
       "119  2025  3.027957  2.873443 -999.900000 -999.900000 -999.90000 -999.90000   \n",
       "\n",
       "           Jul        Aug        Sep        Oct         Nov         Dec  \n",
       "115   18.06667   16.86344   15.85833   11.38548    6.548333    5.207527  \n",
       "116   18.88280   20.62473   14.68389   13.30215    8.598889    3.819893  \n",
       "117   18.31505   17.74839   17.87278   13.15000    7.435556    6.614516  \n",
       "118   18.36236   19.56452   15.75278   11.95323    6.633333    5.517742  \n",
       "119 -999.90000 -999.90000 -999.90000 -999.90000 -999.900000 -999.900000  "
      ]
     },
     "execution_count": 6,
     "metadata": {},
     "output_type": "execute_result"
    }
   ],
   "source": [
    "df.tail()"
   ]
  },
  {
   "cell_type": "code",
   "execution_count": 7,
   "metadata": {},
   "outputs": [
    {
     "data": {
      "text/html": [
       "<div>\n",
       "<style scoped>\n",
       "    .dataframe tbody tr th:only-of-type {\n",
       "        vertical-align: middle;\n",
       "    }\n",
       "\n",
       "    .dataframe tbody tr th {\n",
       "        vertical-align: top;\n",
       "    }\n",
       "\n",
       "    .dataframe thead th {\n",
       "        text-align: right;\n",
       "    }\n",
       "</style>\n",
       "<table border=\"1\" class=\"dataframe\">\n",
       "  <thead>\n",
       "    <tr style=\"text-align: right;\">\n",
       "      <th></th>\n",
       "      <th>YEAR</th>\n",
       "      <th>Jan</th>\n",
       "      <th>Feb</th>\n",
       "      <th>Mar</th>\n",
       "      <th>Apr</th>\n",
       "      <th>May</th>\n",
       "      <th>Jun</th>\n",
       "      <th>Jul</th>\n",
       "      <th>Aug</th>\n",
       "      <th>Sep</th>\n",
       "      <th>Oct</th>\n",
       "      <th>Nov</th>\n",
       "      <th>Dec</th>\n",
       "    </tr>\n",
       "  </thead>\n",
       "  <tbody>\n",
       "    <tr>\n",
       "      <th>114</th>\n",
       "      <td>2020</td>\n",
       "      <td>5.759677</td>\n",
       "      <td>6.916667</td>\n",
       "      <td>6.780645</td>\n",
       "      <td>11.371670</td>\n",
       "      <td>13.27742</td>\n",
       "      <td>17.76889</td>\n",
       "      <td>17.11344</td>\n",
       "      <td>20.55807</td>\n",
       "      <td>15.32833</td>\n",
       "      <td>11.25000</td>\n",
       "      <td>8.572778</td>\n",
       "      <td>5.384946</td>\n",
       "    </tr>\n",
       "    <tr>\n",
       "      <th>115</th>\n",
       "      <td>2021</td>\n",
       "      <td>3.080645</td>\n",
       "      <td>4.105862</td>\n",
       "      <td>6.355914</td>\n",
       "      <td>6.460556</td>\n",
       "      <td>11.37742</td>\n",
       "      <td>18.71334</td>\n",
       "      <td>18.06667</td>\n",
       "      <td>16.86344</td>\n",
       "      <td>15.85833</td>\n",
       "      <td>11.38548</td>\n",
       "      <td>6.548333</td>\n",
       "      <td>5.207527</td>\n",
       "    </tr>\n",
       "    <tr>\n",
       "      <th>116</th>\n",
       "      <td>2022</td>\n",
       "      <td>4.697312</td>\n",
       "      <td>6.382735</td>\n",
       "      <td>7.223656</td>\n",
       "      <td>9.233333</td>\n",
       "      <td>14.56398</td>\n",
       "      <td>17.44000</td>\n",
       "      <td>18.88280</td>\n",
       "      <td>20.62473</td>\n",
       "      <td>14.68389</td>\n",
       "      <td>13.30215</td>\n",
       "      <td>8.598889</td>\n",
       "      <td>3.819893</td>\n",
       "    </tr>\n",
       "    <tr>\n",
       "      <th>117</th>\n",
       "      <td>2023</td>\n",
       "      <td>5.323656</td>\n",
       "      <td>5.345321</td>\n",
       "      <td>6.987634</td>\n",
       "      <td>8.659444</td>\n",
       "      <td>13.71452</td>\n",
       "      <td>19.88944</td>\n",
       "      <td>18.31505</td>\n",
       "      <td>17.74839</td>\n",
       "      <td>17.87278</td>\n",
       "      <td>13.15000</td>\n",
       "      <td>7.435556</td>\n",
       "      <td>6.614516</td>\n",
       "    </tr>\n",
       "    <tr>\n",
       "      <th>118</th>\n",
       "      <td>2024</td>\n",
       "      <td>3.426344</td>\n",
       "      <td>8.036781</td>\n",
       "      <td>8.902688</td>\n",
       "      <td>10.823330</td>\n",
       "      <td>15.54516</td>\n",
       "      <td>16.02944</td>\n",
       "      <td>18.36236</td>\n",
       "      <td>19.56452</td>\n",
       "      <td>15.75278</td>\n",
       "      <td>11.95323</td>\n",
       "      <td>6.633333</td>\n",
       "      <td>5.517742</td>\n",
       "    </tr>\n",
       "  </tbody>\n",
       "</table>\n",
       "</div>"
      ],
      "text/plain": [
       "     YEAR       Jan       Feb       Mar        Apr       May       Jun  \\\n",
       "114  2020  5.759677  6.916667  6.780645  11.371670  13.27742  17.76889   \n",
       "115  2021  3.080645  4.105862  6.355914   6.460556  11.37742  18.71334   \n",
       "116  2022  4.697312  6.382735  7.223656   9.233333  14.56398  17.44000   \n",
       "117  2023  5.323656  5.345321  6.987634   8.659444  13.71452  19.88944   \n",
       "118  2024  3.426344  8.036781  8.902688  10.823330  15.54516  16.02944   \n",
       "\n",
       "          Jul       Aug       Sep       Oct       Nov       Dec  \n",
       "114  17.11344  20.55807  15.32833  11.25000  8.572778  5.384946  \n",
       "115  18.06667  16.86344  15.85833  11.38548  6.548333  5.207527  \n",
       "116  18.88280  20.62473  14.68389  13.30215  8.598889  3.819893  \n",
       "117  18.31505  17.74839  17.87278  13.15000  7.435556  6.614516  \n",
       "118  18.36236  19.56452  15.75278  11.95323  6.633333  5.517742  "
      ]
     },
     "execution_count": 7,
     "metadata": {},
     "output_type": "execute_result"
    }
   ],
   "source": [
    "df = df[:-1]  # I drop the last row to get rid of values -999.9\n",
    "df.tail()"
   ]
  },
  {
   "cell_type": "markdown",
   "metadata": {},
   "source": [
    "## Checking the monthly temperatures"
   ]
  },
  {
   "cell_type": "markdown",
   "metadata": {},
   "source": [
    "### a) Combine the data to obtain the average temperature and standard deviation for each month over the period 1906-now"
   ]
  },
  {
   "cell_type": "code",
   "execution_count": null,
   "metadata": {},
   "outputs": [],
   "source": []
  },
  {
   "cell_type": "markdown",
   "metadata": {},
   "source": [
    "As the earth revolves around the sun, the distance between earth and sun has a sinusoidal dependence on time due to the inclination of the rotation axis of the earth. \n",
    "\n",
    "### b) Construct a model and check if the average temperature per month can be described by a sinusoidal function by fitting the data to such a model. "
   ]
  },
  {
   "cell_type": "code",
   "execution_count": null,
   "metadata": {},
   "outputs": [],
   "source": []
  },
  {
   "cell_type": "markdown",
   "metadata": {},
   "source": [
    "### c) What is the average temperature $T_{avg}$ in the Netherlands for the period 1906-now? Which month is the coldest month? Which month is the hottest?"
   ]
  },
  {
   "cell_type": "code",
   "execution_count": null,
   "metadata": {},
   "outputs": [],
   "source": []
  },
  {
   "cell_type": "markdown",
   "metadata": {},
   "source": [
    "### d) Is the data of KNMI well described by the simple sinusoidal model based on the value of $\\chi^2$?"
   ]
  },
  {
   "cell_type": "code",
   "execution_count": null,
   "metadata": {},
   "outputs": [],
   "source": []
  },
  {
   "cell_type": "markdown",
   "metadata": {},
   "source": [
    "## Global warming: analyzing the average temperature in the Netherlands since 1906"
   ]
  },
  {
   "cell_type": "markdown",
   "metadata": {},
   "source": [
    "A much more heated debate is the issue of global warming. For a more solid scientific basis for the effect I refer to online information http://climate.nasa.gov/. Let’s try to look at local warming using the data from KNMI.\n",
    "\n",
    "### e) Calculate the average annual temperature by averaging over all 12 months for each year and plot this average annual temperature for the period 1906-now\n",
    "\n",
    "If all is well you should get some noisy data, showing a gradual, slow increase with time. "
   ]
  },
  {
   "cell_type": "code",
   "execution_count": null,
   "metadata": {},
   "outputs": [],
   "source": []
  },
  {
   "cell_type": "markdown",
   "metadata": {},
   "source": [
    "### f) Fit the data to a straight line and find the increase in average temperature in the Netherlands for the period 1906-now."
   ]
  },
  {
   "cell_type": "code",
   "execution_count": null,
   "metadata": {},
   "outputs": [],
   "source": []
  },
  {
   "cell_type": "markdown",
   "metadata": {},
   "source": [
    "Consider the hypothesis that there is no measurable effect of local warming, assuming that the trend in the data is due to some random statistical fluctuations. \n",
    "\n",
    "### g) Test this hypothesis by constructing a model and looking at the goodness of fit."
   ]
  },
  {
   "cell_type": "code",
   "execution_count": null,
   "metadata": {},
   "outputs": [],
   "source": []
  },
  {
   "cell_type": "markdown",
   "metadata": {},
   "source": [
    "*For a solid scientific discussion on the origin of the trend consider that the effect of greenhouse gasses in the atmosphere https://en.wikipedia.org/wiki/Greenhouse_gas and the fact that the solar activity varies over time https://en.wikipedia.org/wiki/Solar_cycle. Also consider that the average temperature in the Netherlands might be a very poor measure of the global average temperature.*"
   ]
  }
 ],
 "metadata": {
  "kernelspec": {
   "display_name": "Python 3 (ipykernel)",
   "language": "python",
   "name": "python3"
  },
  "language_info": {
   "codemirror_mode": {
    "name": "ipython",
    "version": 3
   },
   "file_extension": ".py",
   "mimetype": "text/x-python",
   "name": "python",
   "nbconvert_exporter": "python",
   "pygments_lexer": "ipython3",
   "version": "3.9.12"
  }
 },
 "nbformat": 4,
 "nbformat_minor": 2
}
