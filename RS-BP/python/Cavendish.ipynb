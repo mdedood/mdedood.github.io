{
 "cells": [
  {
   "cell_type": "markdown",
   "metadata": {},
   "source": [
    "# Exercise 5: The Cavendish experiment\n",
    "\n",
    "The Cavendsih experiment, see https://en.wikipedia.org/wiki/Cavendish_experiment, uses a torsion balance (see picture below) to measure the gravitational constant $G$. The gravitational force due to the large mass $M$ shifts the equilibrium position of the torsion balance.\n",
    "\n",
    "<img src = 'cavendishdiagram.png' width=600>\n",
    "\n",
    "The torsion balance performs a damped harmonic motion of the form\n",
    "\n",
    "$$\\theta(t) = \\theta_0 + A e^{-\\gamma t} \\sin(\\omega t + \\varphi)$$\n",
    "\n",
    "Where $A$ is the amplitude of motion, $\\gamma$ is a damping rate, $\\omega$ is the angular frequency of the torsion pendulum, $\\varphi$ is the initial phase of the pendulum motion at $t = 0$ sec and $\\theta_0$ is the deviation from the equilibrium position due to the large mass. \n",
    "\n",
    "A dataset for this experiment can be downloaded http://www.physics.hmc.edu/howto/Cavendish.txt - a local copy of this file is stored on disk.\n",
    "\n",
    "### a) The following code is a failed attempt to fit the data. Find a reliable fit of the data and determine the value of $\\theta_0$ including the error bar. \n",
    "\n",
    "**Hint: use the graph to estimate the fit parameters**"
   ]
  },
  {
   "cell_type": "code",
   "execution_count": 1,
   "metadata": {},
   "outputs": [],
   "source": [
    "# Plot settings\n",
    "\n",
    "import matplotlib.pyplot as plt\n",
    "%matplotlib inline\n",
    "\n",
    "# Some default styling for the figures; best solution is once at the beginning of the code\n",
    "# See https://matplotlib.org/3.1.3/tutorials/introductory/customizing.html\n",
    "# These settings assume that you have used import matplotlib.pyplot as plt \n",
    "\n",
    "# Smallest font size is a 10 point font for a 4 inch wide figure. \n",
    "# font sizes and figure size are scaled by a factor 2 to have a large figure on the screen\n",
    "\n",
    "SMALL_SIZE = 10*2                                        \n",
    "MEDIUM_SIZE = 12*2\n",
    "BIGGER_SIZE = 14*2\n",
    "\n",
    "plt.rc('font', size=SMALL_SIZE, family='serif')          # controls default text sizes\n",
    "plt.rc('axes', titlesize=SMALL_SIZE)                     # fontsize of the axes title\n",
    "plt.rc('axes', labelsize=MEDIUM_SIZE)                    # fontsize of the x and y labels\n",
    "plt.rc('xtick', labelsize=SMALL_SIZE, direction='in')    # fontsize of the tick labels\n",
    "plt.rc('ytick', labelsize=SMALL_SIZE, direction='in')    # fontsize of the tick labels\n",
    "plt.rc('legend', fontsize=SMALL_SIZE)                    # legend fontsize\n",
    "plt.rc('figure', titlesize=BIGGER_SIZE)                  # fontsize of the figure title\n",
    "plt.rc('figure', figsize='8, 6')                         # size of the figure, used to be '4, 3' in inches"
   ]
  },
  {
   "cell_type": "code",
   "execution_count": 2,
   "metadata": {},
   "outputs": [
    {
     "name": "stderr",
     "output_type": "stream",
     "text": [
      "C:\\ProgramData\\Anaconda3\\lib\\site-packages\\scipy\\optimize\\minpack.py:795: OptimizeWarning: Covariance of the parameters could not be estimated\n",
      "  category=OptimizeWarning)\n"
     ]
    },
    {
     "name": "stdout",
     "output_type": "stream",
     "text": [
      "theta0 =  5.729918948251055 +/- inf\n",
      "amplitude =  20.849083224816066 +/- inf\n",
      "decayrate =  91.6111456602326 +/- inf\n",
      "oscfreq =  -75.76827348237249 +/- inf\n",
      "phase =  -52.0375045953486 +/- inf\n",
      "\n",
      "\n",
      "The degrees of freedom for this test is 34\n",
      "The chi squared value is:  1759.89\n",
      "The reduced chi squared value is:  51.76\n"
     ]
    },
    {
     "data": {
      "image/png": "[encoded data removed]",
      "text/plain": [
       "<Figure size 576x288 with 1 Axes>"
      ]
     },
     "metadata": {
      "needs_background": "light"
     },
     "output_type": "display_data"
    }
   ],
   "source": [
    "import numpy as np\n",
    "from numpy import sqrt, pi, exp, sin # This helps to keep code readable\n",
    "\n",
    "x, y, error = np.loadtxt('cavendish.txt', delimiter='\\t', unpack=True, usecols=(0,1,2))\n",
    "\n",
    "def cavendish(x, theta0, amplitude, decayrate, oscfreq, phase):\n",
    "    \"damped sinusoidal: cavendish(x, theta0, amplitude, decayrate, oscfreq, phase)\"\n",
    "    return theta0 + amplitude*exp(-x*decayrate)*sin(x*oscfreq+phase)\n",
    "\n",
    "from scipy.optimize import curve_fit\n",
    "\n",
    "popt, pcov = curve_fit(cavendish, x, y, sigma=error) \n",
    "\n",
    "print(\"theta0 = \", popt[0], \"+/-\", pcov[0,0]**0.5)\n",
    "print(\"amplitude = \", popt[1], \"+/-\", pcov[1,1]**0.5)\n",
    "print(\"decayrate = \", popt[2], \"+/-\", pcov[2,2]**0.5)\n",
    "print(\"oscfreq = \", popt[3], \"+/-\", pcov[3,3]**0.5)\n",
    "print(\"phase = \", popt[4], \"+/-\", pcov[4,4]**0.5)\n",
    "\n",
    "#Derived Chi Squared Value For This Model\n",
    "chi_squared = np.sum(((cavendish(x, *popt)-y)/error)**2)\n",
    "reduced_chi_squared = (chi_squared)/(len(x)-len(popt))\n",
    "print('\\n\\nThe degrees of freedom for this test is', len(x)-len(popt))\n",
    "print('The chi squared value is: ',(\"%.2f\" %chi_squared))\n",
    "print('The reduced chi squared value is: ',(\"%.2f\" %reduced_chi_squared))\n",
    "\n",
    "plt.figure(figsize=(8,4))\n",
    "xfine=np.linspace(0.,60.,100) #define points to plot the function for\n",
    "plt.plot(xfine, cavendish(xfine, popt[0],popt[1],popt[2],popt[3],popt[4]), ls='solid', color='red')\n",
    "plt.errorbar(x, y, yerr=error, fmt=\"none\", marker='o', color='blue', markersize=5, capsize=5)\n",
    "plt.xlabel('Time (sec)')        # Axes have labels!\n",
    "plt.ylabel('Angle (mrad)')\n",
    "plt.ylim(-60,60)\n",
    "plt.xlim(0,60)\n",
    "plt.show()"
   ]
  },
  {
   "cell_type": "code",
   "execution_count": null,
   "metadata": {},
   "outputs": [],
   "source": []
  }
 ],
 "metadata": {
  "kernelspec": {
   "display_name": "Python 3",
   "language": "python",
   "name": "python3"
  },
  "language_info": {
   "codemirror_mode": {
    "name": "ipython",
    "version": 3
   },
   "file_extension": ".py",
   "mimetype": "text/x-python",
   "name": "python",
   "nbconvert_exporter": "python",
   "pygments_lexer": "ipython3",
   "version": "3.7.4"
  }
 },
 "nbformat": 4,
 "nbformat_minor": 2
}
